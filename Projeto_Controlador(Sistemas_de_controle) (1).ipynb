{
  "nbformat": 4,
  "nbformat_minor": 0,
  "metadata": {
    "colab": {
      "provenance": []
    },
    "kernelspec": {
      "name": "python3",
      "display_name": "Python 3"
    },
    "language_info": {
      "name": "python"
    }
  },
  "cells": [
    {
      "cell_type": "code",
      "execution_count": null,
      "metadata": {
        "id": "fEQ-VQ1Gtnac"
      },
      "outputs": [],
      "source": [
        "!pip install control matplotlib numpy"
      ]
    },
    {
      "cell_type": "code",
      "source": [
        "import control as ct\n",
        "import matplotlib.pyplot as plt\n",
        "import numpy as np"
      ],
      "metadata": {
        "id": "ehPbHDgOtuP4"
      },
      "execution_count": null,
      "outputs": []
    },
    {
      "cell_type": "markdown",
      "source": [],
      "metadata": {
        "id": "VCmu2bsEvSFl"
      }
    },
    {
      "cell_type": "markdown",
      "source": [
        "## Definição do Sistema Contínuo\n",
        "Definimos um sistema contínuo de primeira ordem com ganho K e constante de tempo tau."
      ],
      "metadata": {
        "id": "y0EQKv7atybk"
      }
    },
    {
      "cell_type": "code",
      "source": [
        "K = 1.2\n",
        "tau = 0.1\n",
        "num = K\n",
        "den = [tau, 1]\n",
        "G = ct.tf(num, den)\n",
        "t, y = ct.step_response(G)\n",
        "print(G)"
      ],
      "metadata": {
        "id": "83L5dirZtvN2"
      },
      "execution_count": null,
      "outputs": []
    },
    {
      "cell_type": "markdown",
      "source": [
        "## Resposta ao Degrau do Sistema Contínuo\n",
        "Plotamos a resposta ao degrau do sistema contínuo."
      ],
      "metadata": {
        "id": "9HiH_OQvt6Qo"
      }
    },
    {
      "cell_type": "code",
      "source": [
        "plt.figure(figsize=(6, 3))\n",
        "plt.plot(t, y)\n",
        "plt.grid()\n",
        "plt.show()"
      ],
      "metadata": {
        "id": "CKSZRWKht9eM"
      },
      "execution_count": null,
      "outputs": []
    },
    {
      "cell_type": "markdown",
      "source": [
        "## Discretização do Sistema\n",
        "Discretizamos o sistema contínuo utilizando o método de retenção de ordem zero (ZOH)."
      ],
      "metadata": {
        "id": "INW6TP6huA7L"
      }
    },
    {
      "cell_type": "code",
      "source": [
        "ts = 5 * tau\n",
        "Ts = ts / 15\n",
        "Gz = ct.c2d(G, Ts, 'zoh')\n",
        "print(Gz)\n",
        "print(ts)"
      ],
      "metadata": {
        "id": "N64qUSvWuDYg"
      },
      "execution_count": null,
      "outputs": []
    },
    {
      "cell_type": "markdown",
      "source": [
        "## Resposta ao Degrau do Sistema Discreto\n",
        "Plotamos a resposta ao degrau do sistema discreto.\n",
        "\n"
      ],
      "metadata": {
        "id": "xw22Jj2BuE8F"
      }
    },
    {
      "cell_type": "code",
      "source": [
        "td, yd = ct.step_response(Gz, T=3)\n",
        "plt.figure(figsize=(6, 3))\n",
        "plt.stem(td, yd, '.r')\n",
        "plt.plot(td, yd, 'b')\n",
        "plt.grid()\n",
        "plt.show()"
      ],
      "metadata": {
        "id": "SatJp_pquH27"
      },
      "execution_count": null,
      "outputs": []
    },
    {
      "cell_type": "markdown",
      "source": [
        "## Mapa de Polos e Zeros\n",
        "Plotamos o mapa de polos e zeros do sistema discreto."
      ],
      "metadata": {
        "id": "kS-6FZOBuKLw"
      }
    },
    {
      "cell_type": "code",
      "source": [
        "ct.pzmap(Gz)"
      ],
      "metadata": {
        "id": "k1GHmAJSuMt1"
      },
      "execution_count": null,
      "outputs": []
    },
    {
      "cell_type": "markdown",
      "source": [
        "## Projeto do Controlador\n",
        "Projetamos um controlador proporcional com ganho kp e analisamos a resposta ao degrau do sistema em malha fechada.\n",
        "\n"
      ],
      "metadata": {
        "id": "PtBEAag8uN5V"
      }
    },
    {
      "cell_type": "code",
      "source": [
        "kp = 5.5\n",
        "Hz = ct.feedback(ct.series(kp, Gz), 1)\n",
        "ct.rlocus(Gz)\n",
        "ct.pzmap(Hz)"
      ],
      "metadata": {
        "id": "D9keNXqHuNk6"
      },
      "execution_count": null,
      "outputs": []
    },
    {
      "cell_type": "markdown",
      "source": [
        "## Resposta ao Degrau do Sistema Controlado\n",
        "Plotamos a resposta ao degrau do sistema controlado."
      ],
      "metadata": {
        "id": "3MoQftHFuSQq"
      }
    },
    {
      "cell_type": "code",
      "source": [
        "td1, yd1 = ct.step_response(Hz, T=3)\n",
        "plt.figure(figsize=(6, 3))\n",
        "plt.stem(td1, yd1, '.r')\n",
        "plt.grid()\n",
        "plt.show()"
      ],
      "metadata": {
        "id": "dhGgDkvXuRnE"
      },
      "execution_count": null,
      "outputs": []
    },
    {
      "cell_type": "markdown",
      "source": [
        "##Projeto do Controlador com Zero\n",
        "Adicionamos um zero ao controlador e analisamos a resposta ao degrau do sistema em malha fechada."
      ],
      "metadata": {
        "id": "9vFC8uIPuVdY"
      }
    },
    {
      "cell_type": "code",
      "source": [
        "zc = 15\n",
        "C1 = ct.tf([1, zc], [1, 0])\n",
        "kp = 2\n",
        "l = ct.series(C1, G)\n",
        "Hs = ct.feedback(ct.series(kp, l), 1)\n",
        "ct.rlocus(ct.series(C1, G))\n",
        "print(Hs)"
      ],
      "metadata": {
        "id": "RqP-o45YuVJV"
      },
      "execution_count": null,
      "outputs": []
    },
    {
      "cell_type": "markdown",
      "source": [
        "## Discretização do Controlador\n",
        "Discretizamos o controlador utilizando o método bilinear."
      ],
      "metadata": {
        "id": "-Mi2ZkIkua2O"
      }
    },
    {
      "cell_type": "code",
      "source": [
        "Cs = ct.series(kp, C1)\n",
        "Cz = ct.c2d(Cs, Ts, 'bilinear')"
      ],
      "metadata": {
        "id": "U-12f00Oueme"
      },
      "execution_count": null,
      "outputs": []
    },
    {
      "cell_type": "markdown",
      "source": [
        "## Resposta ao Degrau do Sistema Controlado com Controlador Discreto\n",
        "Plotamos a resposta ao degrau do sistema controlado com o controlador discreto."
      ],
      "metadata": {
        "id": "xfJfvzSlufjI"
      }
    },
    {
      "cell_type": "code",
      "source": [
        "Hz = ct.feedback(ct.series(Cz, Gz), 1)\n",
        "tc, yc = ct.step_response(Hs, T=0.8)\n",
        "td, yd = ct.step_response(Hz, T=0.8)\n",
        "plt.figure(figsize=(6, 3))\n",
        "plt.plot(tc, yc)\n",
        "plt.stem(td, yd, '.g')\n",
        "plt.grid()\n",
        "plt.show()"
      ],
      "metadata": {
        "id": "CblWclsvuieb"
      },
      "execution_count": null,
      "outputs": []
    }
  ]
}