{
 "cells": [
  {
   "cell_type": "code",
   "execution_count": null,
   "metadata": {
    "id": "fEQ-VQ1Gtnac"
   },
   "outputs": [],
   "source": [
    "!pip install control matplotlib numpy"
   ]
  },
  {
   "cell_type": "code",
   "execution_count": null,
   "metadata": {
    "id": "ehPbHDgOtuP4"
   },
   "outputs": [],
   "source": [
    "import control as ct\n",
    "import matplotlib.pyplot as plt\n",
    "import numpy as np"
   ]
  },
  {
   "cell_type": "markdown",
   "metadata": {
    "id": "y0EQKv7atybk"
   },
   "source": [
    "## Definição do Sistema Contínuo\n",
    "Definimos um sistema contínuo de primeira ordem com ganho K e constante de tempo tau."
   ]
  },
  {
   "cell_type": "code",
   "execution_count": null,
   "metadata": {
    "id": "83L5dirZtvN2"
   },
   "outputs": [],
   "source": [
    "K = 1.2\n",
    "tau = 0.1\n",
    "num = K\n",
    "den = [tau, 1]\n",
    "G = ct.tf(num, den)\n",
    "t, y = ct.step_response(G)\n",
    "print(G)"
   ]
  },
  {
   "cell_type": "markdown",
   "metadata": {
    "id": "9HiH_OQvt6Qo"
   },
   "source": [
    "## Resposta ao Degrau do Sistema Contínuo\n",
    "Plotamos a resposta ao degrau do sistema contínuo."
   ]
  },
  {
   "cell_type": "code",
   "execution_count": null,
   "metadata": {
    "id": "CKSZRWKht9eM"
   },
   "outputs": [],
   "source": [
    "plt.figure(figsize=(6, 3))\n",
    "plt.plot(t, y)\n",
    "plt.grid()\n",
    "plt.show()"
   ]
  },
  {
   "cell_type": "markdown",
   "metadata": {
    "id": "INW6TP6huA7L"
   },
   "source": [
    "## Discretização do Sistema\n",
    "Discretizamos o sistema contínuo utilizando o método de retenção de ordem zero (ZOH)."
   ]
  },
  {
   "cell_type": "code",
   "execution_count": null,
   "metadata": {
    "id": "N64qUSvWuDYg"
   },
   "outputs": [],
   "source": [
    "ts = 5 * tau\n",
    "Ts = ts / 15\n",
    "Gz = ct.c2d(G, Ts, 'zoh')\n",
    "print(Gz)\n",
    "print(ts)"
   ]
  },
  {
   "cell_type": "markdown",
   "metadata": {
    "id": "xw22Jj2BuE8F"
   },
   "source": [
    "## Resposta ao Degrau do Sistema Discreto\n",
    "Plotamos a resposta ao degrau do sistema discreto.\n",
    "\n"
   ]
  },
  {
   "cell_type": "code",
   "execution_count": null,
   "metadata": {
    "id": "SatJp_pquH27"
   },
   "outputs": [],
   "source": [
    "td, yd = ct.step_response(Gz, T=3)\n",
    "plt.figure(figsize=(6, 3))\n",
    "plt.stem(td, yd, '.r')\n",
    "plt.plot(td, yd, 'b')\n",
    "plt.grid()\n",
    "plt.show()"
   ]
  },
  {
   "cell_type": "markdown",
   "metadata": {
    "id": "kS-6FZOBuKLw"
   },
   "source": [
    "## Mapa de Polos e Zeros\n",
    "Plotamos o mapa de polos e zeros do sistema discreto."
   ]
  },
  {
   "cell_type": "code",
   "execution_count": null,
   "metadata": {
    "id": "k1GHmAJSuMt1"
   },
   "outputs": [],
   "source": [
    "ct.pzmap(Gz)"
   ]
  },
  {
   "cell_type": "markdown",
   "metadata": {
    "id": "PtBEAag8uN5V"
   },
   "source": [
    "## Projeto do Controlador\n",
    "Projetamos um controlador proporcional com ganho kp e analisamos a resposta ao degrau do sistema em malha fechada.\n",
    "\n"
   ]
  },
  {
   "cell_type": "code",
   "execution_count": null,
   "metadata": {
    "id": "D9keNXqHuNk6"
   },
   "outputs": [],
   "source": [
    "kp = 5.5\n",
    "Hz = ct.feedback(ct.series(kp, Gz), 1)\n",
    "ct.rlocus(Gz)\n",
    "ct.pzmap(Hz)"
   ]
  },
  {
   "cell_type": "markdown",
   "metadata": {
    "id": "3MoQftHFuSQq"
   },
   "source": [
    "## Resposta ao Degrau do Sistema Controlado\n",
    "Plotamos a resposta ao degrau do sistema controlado."
   ]
  },
  {
   "cell_type": "code",
   "execution_count": null,
   "metadata": {
    "id": "dhGgDkvXuRnE"
   },
   "outputs": [],
   "source": [
    "td1, yd1 = ct.step_response(Hz, T=3)\n",
    "plt.figure(figsize=(6, 3))\n",
    "plt.stem(td1, yd1, '.r')\n",
    "plt.grid()\n",
    "plt.show()"
   ]
  },
  {
   "cell_type": "markdown",
   "metadata": {
    "id": "9vFC8uIPuVdY"
   },
   "source": [
    "##Projeto do Controlador com Zero\n",
    "Adicionamos um zero ao controlador e analisamos a resposta ao degrau do sistema em malha fechada."
   ]
  },
  {
   "cell_type": "code",
   "execution_count": null,
   "metadata": {
    "id": "RqP-o45YuVJV"
   },
   "outputs": [],
   "source": [
    "zc = 15\n",
    "C1 = ct.tf([1, zc], [1, 0])\n",
    "kp = 2\n",
    "l = ct.series(C1, G)\n",
    "Hs = ct.feedback(ct.series(kp, l), 1)\n",
    "ct.rlocus(ct.series(C1, G))\n",
    "print(Hs)"
   ]
  },
  {
   "cell_type": "markdown",
   "metadata": {
    "id": "-Mi2ZkIkua2O"
   },
   "source": [
    "## Discretização do Controlador\n",
    "Discretizamos o controlador utilizando o método bilinear."
   ]
  },
  {
   "cell_type": "code",
   "execution_count": null,
   "metadata": {
    "id": "U-12f00Oueme"
   },
   "outputs": [],
   "source": [
    "Cs = ct.series(kp, C1)\n",
    "Cz = ct.c2d(Cs, Ts, 'bilinear')"
   ]
  },
  {
   "cell_type": "markdown",
   "metadata": {
    "id": "xfJfvzSlufjI"
   },
   "source": [
    "## Resposta ao Degrau do Sistema Controlado com Controlador Discreto\n",
    "Plotamos a resposta ao degrau do sistema controlado com o controlador discreto."
   ]
  },
  {
   "cell_type": "code",
   "execution_count": null,
   "metadata": {
    "id": "CblWclsvuieb"
   },
   "outputs": [],
   "source": [
    "Hz = ct.feedback(ct.series(Cz, Gz), 1)\n",
    "tc, yc = ct.step_response(Hs, T=0.8)\n",
    "td, yd = ct.step_response(Hz, T=0.8)\n",
    "plt.figure(figsize=(6, 3))\n",
    "plt.plot(tc, yc)\n",
    "plt.stem(td, yd, '.g')\n",
    "plt.grid()\n",
    "plt.show()"
   ]
  }
 ],
 "metadata": {
  "colab": {
   "provenance": []
  },
  "kernelspec": {
   "display_name": "Python 3",
   "name": "python3"
  },
  "language_info": {
   "name": "python"
  }
 },
 "nbformat": 4,
 "nbformat_minor": 0
}
